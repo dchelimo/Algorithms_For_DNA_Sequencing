{
 "cells": [
  {
   "cell_type": "code",
   "execution_count": null,
   "metadata": {
    "collapsed": true
   },
   "outputs": [],
   "source": [
    "Exact Matching: Naive Algorithm "
   ]
  },
  {
   "cell_type": "code",
   "execution_count": null,
   "metadata": {
    "collapsed": true
   },
   "outputs": [],
   "source": []
  },
  {
   "cell_type": "code",
   "execution_count": null,
   "metadata": {
    "collapsed": true
   },
   "outputs": [],
   "source": [
    "def naive(p, t):\n",
    "\toccurrence = []\n",
    "\tfor i in range(len(t) - len(p) + 1): # Loop over alignments\n",
    "\t\tmatch =True\n",
    "\t\tfor j in range(len(p)):  # Loop over characters\n",
    "\t\t\tif t[i+j] != p[j]:   # Compare characters\n",
    "\t\t\t\tmatch = False    # \n",
    "\t\t\t\tbreak\n",
    "\t\t\tif match:\n",
    "\t\t\t\toccurrence.append(i)\n",
    "\t\treturn occurrence"
   ]
  },
  {
   "cell_type": "markdown",
   "metadata": {},
   "source": [
    "Sequencing Reads in FASTQ format: \n",
    "    There are four lines per read\n",
    "    First line is the name\n",
    "    Second id sequence\n",
    "    third is a placeholder\n",
    "    fourth is the base qualities\n",
    "    "
   ]
  },
  {
   "cell_type": "code",
   "execution_count": 1,
   "metadata": {},
   "outputs": [
    {
     "data": {
      "text/plain": [
       "'i'"
      ]
     },
     "execution_count": 1,
     "metadata": {},
     "output_type": "execute_result"
    }
   ],
   "source": [
    "def QtoPhred33(Q):\n",
    "    #turn Q into phred+33 ASCII-encoded quality score\n",
    "    return chr(Q+33)\n",
    "QtoPhred33(72)"
   ]
  },
  {
   "cell_type": "code",
   "execution_count": 4,
   "metadata": {},
   "outputs": [
    {
     "data": {
      "text/plain": [
       "39"
      ]
     },
     "execution_count": 4,
     "metadata": {},
     "output_type": "execute_result"
    }
   ],
   "source": [
    "def phred33ToQ(qual):\n",
    "    # convert ASCII-encoded quality into Q\n",
    "    return ord(qual)-33\n",
    "phred33ToQ(\"H\")"
   ]
  },
  {
   "cell_type": "markdown",
   "metadata": {},
   "source": [
    "To download a file in python, use wget function as in the next line\n",
    "\n",
    "!wget --no-check [url paste URL]"
   ]
  },
  {
   "cell_type": "code",
   "execution_count": null,
   "metadata": {
    "collapsed": true
   },
   "outputs": [],
   "source": [
    "def readFastq(filename):\n",
    "    sequences = []\n",
    "    qualities = []\n",
    "    with open(filename) as fh:\n",
    "        while True:\n",
    "            fh.readline()\n",
    "            seq = readline().rstrip()\n",
    "            fh.readline()\n",
    "            qual = fh.readline().rstrip()\n",
    "            if len(seq) == 0:\n",
    "                break\n",
    "            sequences.append(seq)\n",
    "            qualities.append(qual)\n",
    "        return sequences, qualities\n",
    "seqs, quals = readFastq('FILENAME')\n",
    "            \n",
    "        "
   ]
  },
  {
   "cell_type": "markdown",
   "metadata": {},
   "source": [
    "## Bioinformatics Analysis Tools & Algorithms\n",
    "First align the whole genome sequence reads using aligners such as Bostie2 or BWA before proceeding to genotypers\n",
    "\n",
    "using GATK Variant Filtration to apply threshold values to quality metrics\n",
    "\n",
    "and variant calling. \n",
    "\n",
    "The variant that are called are then annotated: annovar .... gene names, locations, and genomic region\n",
    "The annotated varients are intersected with the known variants to filter out commong variants "
   ]
  },
  {
   "cell_type": "markdown",
   "metadata": {},
   "source": [
    "##  DBA Analysis\n",
    "\n",
    "#### Whole Genome Sequencing to Detect Small Deletions in Ribosomal Protein Genes in Diamond Blackfan Anemia Patients\n",
    "\n",
    "Jens Lichtenberg, David Chelimo, NISC, Frederick Horne, William Simmons, Jaya Jagadeesh,\n",
    "Jason Farrar, Steven Ellis, Adriana Vlachos, Jeffrey Lipton, David Bodine\n",
    "\n",
    "    Diamond Blackfan Anemia (DBA) is characterized by profound anemia due to isolated red cell aplasia (Clinton and Gazda 2016Vlachos, Blanc and Lipton 2014). Mutations in ribosomalprotein (RP) genes involved in the biogenesis of the small and large ribosomal subunits aredetected in approximately 60% of patients, and mutations in GATA1, TSR2, CECR1, and EPOREPO have also been associated with a DBA phenotype in around 1% of patients. Moleculardiagnosis is based on a standard genotyping pipeline that employs targeted sequencing,detection of large deletions using single nucleotide polymorphism (SNP) and NimbleGen arrays,whole exome sequencing and gene expression profiling using microarray and RNA-Seq.However, around 35% of patients with a clinical diagnosis of DBA have no detectable mutation.Since current genotyping pipelines are limited in their ability to only detect large deletions(&gt;5kbp) and specific exonic polymorphisms, we hypothesized that smaller deletions, as well as SNPs or mutations in the transcription factor binding sites regulating RP genes may be presentin patients without a molecular diagnosis.\n",
    "    Whole genome sequencing was conducted on five patients that had a diagnosis of DBA buttested negative for known RP gene and GATA1 mutations associated with DBA. We used DELLY(Rausch et al, 2012) and CNVkit (Talevich et al, 2016), two variant caller that identify deletionsin whole genome sequencing data. DELLY analyzes read pairs for their concordance first andthen confirms findings using supporting single reads. CNVkit analyzes significant changes insequencing read depth between exons and intergenic regions to detect functionally relevantgenomic variants. We used the SNP caller GATK (McKenna et al 2010) to detect mutations intranscription factor bindings sites regulating the expression of RP genes. GATK uses read depthto detect active regions of variation for each base-pair in the genome and quantifies the statistical significance of each predicted SNP.\n",
    "    Variants annotated in dbVar as being found in the general population were excluded and only deletions that overlap with RP genes (Table 1) were considered. The exons of five ribosomal protein genes were found to carry deletions that were not detected using the standard genotyping pipeline. DELLY detected a 419bp deletion overlapping the 3’ end of RPL36AL and CNVkit predicted deletions in RPS17 (4533bp), RPS6 (1067bp), and RPS5 (3466bp) for one patient each. A deletion in RPL7, predicted by CNVkit, was shared by 3 of our 5 patients and varied in length between 1867bp and 3200bp. We designed primers for each deletion and used PCR to validate the deletions in the patient samples versus control. SNPs detected by GATK, were filtered to exclude those annotated in dbSNPs as common, and compared against the set of putative binding sites in the genome. Transcription factor binding sites upstream of RPL11, RPL31 and RPL41 were found to contain SNPs.\n",
    "    Microarray expressiondata showed a change in the expression for RPL41 between patient and control as well aspatient and 3 other classical DBA patients. In conclusion, we identified deletions in five RP genes and mutations in putative binding sitesupstream of three RP genes in five DBA patients that had no molecular diagnosis afterconducting whole exome sequencing, SNP arrays and microarray studies. The detection ofthese mutations allows for additional primer directed diagnosis for previously uncharacterizedDBA patients as well as the investigation of novel treatment sites."
   ]
  },
  {
   "cell_type": "code",
   "execution_count": null,
   "metadata": {
    "collapsed": true
   },
   "outputs": [],
   "source": []
  }
 ],
 "metadata": {
  "kernelspec": {
   "display_name": "Python 2",
   "language": "python",
   "name": "python2"
  },
  "language_info": {
   "codemirror_mode": {
    "name": "ipython",
    "version": 2
   },
   "file_extension": ".py",
   "mimetype": "text/x-python",
   "name": "python",
   "nbconvert_exporter": "python",
   "pygments_lexer": "ipython2",
   "version": "2.7.13"
  }
 },
 "nbformat": 4,
 "nbformat_minor": 2
}
